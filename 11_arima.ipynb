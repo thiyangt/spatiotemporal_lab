{
 "cells": [
  {
   "cell_type": "markdown",
   "id": "bb139785",
   "metadata": {},
   "source": [
    "## ARIMA model fitting"
   ]
  },
  {
   "cell_type": "code",
   "execution_count": 1,
   "id": "cea38de8",
   "metadata": {},
   "outputs": [],
   "source": [
    "## Code Syntax\n",
    "from sktime.datasets import load_airline\n",
    "from sktime.forecasting.arima import ARIMA\n",
    "y = load_airline()\n",
    "forecaster = ARIMA(  \n",
    "    order=(1, 1, 0),\n",
    "    seasonal_order=(0, 1, 0, 12),\n",
    "    suppress_warnings=True)\n",
    "forecaster.fit(y)  \n",
    "\n",
    "y_pred = forecaster.predict(fh=[1,2,3]) "
   ]
  },
  {
   "cell_type": "code",
   "execution_count": 2,
   "id": "8795da28",
   "metadata": {},
   "outputs": [
    {
     "data": {
      "text/plain": [
       "1961-01    444.538863\n",
       "1961-02    418.603984\n",
       "1961-03    446.814947\n",
       "Freq: M, dtype: float64"
      ]
     },
     "execution_count": 2,
     "metadata": {},
     "output_type": "execute_result"
    }
   ],
   "source": [
    "y_pred"
   ]
  },
  {
   "cell_type": "markdown",
   "id": "15dcaf04",
   "metadata": {},
   "source": [
    "## Your turn: Identify a suitable SARIMA model for AirPassenger dataset."
   ]
  },
  {
   "cell_type": "code",
   "execution_count": null,
   "id": "b766b4ca",
   "metadata": {},
   "outputs": [],
   "source": []
  }
 ],
 "metadata": {
  "kernelspec": {
   "display_name": "Python 3 (ipykernel)",
   "language": "python",
   "name": "python3"
  },
  "language_info": {
   "codemirror_mode": {
    "name": "ipython",
    "version": 3
   },
   "file_extension": ".py",
   "mimetype": "text/x-python",
   "name": "python",
   "nbconvert_exporter": "python",
   "pygments_lexer": "ipython3",
   "version": "3.9.0"
  }
 },
 "nbformat": 4,
 "nbformat_minor": 5
}
